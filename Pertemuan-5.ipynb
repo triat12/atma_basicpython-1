{
 "cells": [
  {
   "cell_type": "markdown",
   "metadata": {},
   "source": [
    "## File Handling\n"
   ]
  },
  {
   "cell_type": "code",
   "execution_count": 5,
   "metadata": {},
   "outputs": [],
   "source": [
    "# create file\n",
    "# write and append\n",
    "\n",
    "f = open(\"Tes file baru.txt\", \"a\")    #a untuk append\n",
    "f.write(\"menambahkan text\")\n",
    "f.close()"
   ]
  },
  {
   "cell_type": "code",
   "execution_count": 8,
   "metadata": {},
   "outputs": [],
   "source": [
    "# write\n",
    "\n",
    "f = open(\"Tes file baru.txt\", \"w\")    #w untuk write\n",
    "f.write(\"hello\")\n",
    "f.close()"
   ]
  },
  {
   "cell_type": "code",
   "execution_count": 11,
   "metadata": {},
   "outputs": [],
   "source": [
    "# write\n",
    "\n",
    "f = open(\"Tes file baru.txt\", \"w\")    #w untuk write\n",
    "f.write(\"hello nama saya Aat\")\n",
    "f.close()"
   ]
  },
  {
   "cell_type": "code",
   "execution_count": 14,
   "metadata": {},
   "outputs": [
    {
     "name": "stdout",
     "output_type": "stream",
     "text": [
      "hello nama saya Aat\n"
     ]
    }
   ],
   "source": [
    "# read --> melihat isi file\n",
    "\n",
    "f = open(\"Tes file baru.txt\", \"r\")    #r untuk rewrite\n",
    "print(f.read())"
   ]
  },
  {
   "cell_type": "code",
   "execution_count": 17,
   "metadata": {},
   "outputs": [
    {
     "name": "stdout",
     "output_type": "stream",
     "text": [
      "h\n"
     ]
    }
   ],
   "source": [
    "# read --> melihat isi file SEBAGIAN\n",
    "\n",
    "f = open(\"Tes file baru.txt\", \"r\")    #r untuk rewrite\n",
    "print(f.read(1))"
   ]
  },
  {
   "cell_type": "code",
   "execution_count": 18,
   "metadata": {},
   "outputs": [
    {
     "name": "stdout",
     "output_type": "stream",
     "text": [
      "hello\n"
     ]
    }
   ],
   "source": [
    "# read --> melihat isi file SEBAGIAN\n",
    "\n",
    "f = open(\"Tes file baru.txt\", \"r\")    #r untuk rewrite\n",
    "print(f.read(5))"
   ]
  },
  {
   "cell_type": "code",
   "execution_count": 19,
   "metadata": {},
   "outputs": [
    {
     "name": "stdout",
     "output_type": "stream",
     "text": [
      "hello nama saya\n"
     ]
    }
   ],
   "source": [
    "# read --> melihat isi file SEBAGIAN\n",
    "\n",
    "f = open(\"Tes file baru.txt\", \"r\")    #r untuk rewrite\n",
    "print(f.read(15))"
   ]
  },
  {
   "cell_type": "code",
   "execution_count": 20,
   "metadata": {},
   "outputs": [
    {
     "name": "stdout",
     "output_type": "stream",
     "text": [
      "hello nama saya Aat\n"
     ]
    }
   ],
   "source": [
    "# bisa pakai readline\n",
    "\n",
    "f = open(\"Tes file baru.txt\", \"r\")    #r untuk rewrite\n",
    "print(f.readline())"
   ]
  },
  {
   "cell_type": "code",
   "execution_count": 2,
   "metadata": {},
   "outputs": [
    {
     "ename": "FileNotFoundError",
     "evalue": "[WinError 2] The system cannot find the file specified: 'Tes file baru.txt'",
     "output_type": "error",
     "traceback": [
      "\u001b[1;31m---------------------------------------------------------------------------\u001b[0m",
      "\u001b[1;31mFileNotFoundError\u001b[0m                         Traceback (most recent call last)",
      "\u001b[1;32m<ipython-input-2-9389cdec5579>\u001b[0m in \u001b[0;36m<module>\u001b[1;34m\u001b[0m\n\u001b[0;32m      2\u001b[0m \u001b[1;32mimport\u001b[0m \u001b[0mos\u001b[0m\u001b[1;33m\u001b[0m\u001b[1;33m\u001b[0m\u001b[0m\n\u001b[0;32m      3\u001b[0m \u001b[1;33m\u001b[0m\u001b[0m\n\u001b[1;32m----> 4\u001b[1;33m \u001b[0mos\u001b[0m\u001b[1;33m.\u001b[0m\u001b[0mremove\u001b[0m \u001b[1;33m(\u001b[0m\u001b[1;34m\"Tes file baru.txt\"\u001b[0m\u001b[1;33m)\u001b[0m\u001b[1;33m\u001b[0m\u001b[1;33m\u001b[0m\u001b[0m\n\u001b[0m",
      "\u001b[1;31mFileNotFoundError\u001b[0m: [WinError 2] The system cannot find the file specified: 'Tes file baru.txt'"
     ]
    }
   ],
   "source": [
    "# untuk menghapus file\n",
    "import os\n",
    "\n",
    "os.remove (\"Tes file baru.txt\")\n"
   ]
  },
  {
   "cell_type": "code",
   "execution_count": 7,
   "metadata": {},
   "outputs": [
    {
     "name": "stdout",
     "output_type": "stream",
     "text": [
      "file tidak ada\n"
     ]
    }
   ],
   "source": [
    "import os\n",
    "\n",
    "file_path = \"Tes file baru.txt\"\n",
    "\n",
    "if os.path.exists(file_path):\n",
    "    os.remove(file_path)\n",
    "    print(\"file\", file_path, \"deleted\")\n",
    "else:\n",
    "    print(\"file tidak ada\")"
   ]
  },
  {
   "cell_type": "code",
   "execution_count": null,
   "metadata": {},
   "outputs": [],
   "source": []
  }
 ],
 "metadata": {
  "kernelspec": {
   "display_name": "Python 3",
   "language": "python",
   "name": "python3"
  },
  "language_info": {
   "codemirror_mode": {
    "name": "ipython",
    "version": 3
   },
   "file_extension": ".py",
   "mimetype": "text/x-python",
   "name": "python",
   "nbconvert_exporter": "python",
   "pygments_lexer": "ipython3",
   "version": "3.9.1"
  }
 },
 "nbformat": 4,
 "nbformat_minor": 4
}
