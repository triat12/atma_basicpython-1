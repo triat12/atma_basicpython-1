{
 "cells": [
  {
   "cell_type": "markdown",
   "metadata": {},
   "source": [
    "# Aat_Assignment #2 - Basic Python"
   ]
  },
  {
   "cell_type": "code",
   "execution_count": 37,
   "metadata": {},
   "outputs": [
    {
     "name": "stdout",
     "output_type": "stream",
     "text": [
      "Selamat datang! \n",
      " ---Menu---\n",
      " 1. Daftar Kontak\n",
      " 2. Tambah Kontak\n",
      " 3. Keluar\n"
     ]
    },
    {
     "name": "stdin",
     "output_type": "stream",
     "text": [
      "\n",
      "\n",
      "Pilih Menu: 3\n"
     ]
    },
    {
     "name": "stdout",
     "output_type": "stream",
     "text": [
      "Program selesai, sampai jumpa!\n"
     ]
    }
   ],
   "source": [
    "print(\"Selamat datang! \\n ---Menu---\\n 1. Daftar Kontak\\n 2. Tambah Kontak\\n 3. Keluar\")\n",
    " \n",
    "s = int(input(\"\\n\\nPilih Menu:\"))\n",
    "if s==1:\n",
    "    print(\"Daftar kontak:\\nNama: Farhan\\nNo Telepon: 08123456789\\nNama: Joko\\nNo Telepon: 08987654321\")\n",
    "    \n",
    "elif s==2:\n",
    "    jumlah_kontak = int(input(\"Kontak yang akan ditambah berjumlah :\"))\n",
    "\n",
    "    nama_kontak = []    \n",
    "    nomor_telepon_kontak = []\n",
    "\n",
    "    print(\"\\n2. Tambah Kontak :\\n\")   \n",
    "    \n",
    "    for i in range (jumlah_kontak):\n",
    "        print(\"Kontak ke {}\".format(i+1))\n",
    "        nama = input (\"Nama :\")\n",
    "        nomor_telepon = int(input(\"Nomor Telepon:\"))\n",
    "    \n",
    "        nama_kontak.append(nama)\n",
    "        nomor_telepon_kontak.append(nomor_telepon)\n",
    "\n",
    "    print(\"\\nKontak berhasil ditambahkan :\")\n",
    "\n",
    "    for i in range(len(nama_kontak)):\n",
    "        print(\"Nama: {} \\nNomor Telepon: {}\".format(nama_kontak[i], nomor_telepon_kontak[i]))   \n",
    "\n",
    "else:\n",
    "    print(\"Program selesai, sampai jumpa!\")"
   ]
  }
 ],
 "metadata": {
  "kernelspec": {
   "display_name": "Python 3",
   "language": "python",
   "name": "python3"
  },
  "language_info": {
   "codemirror_mode": {
    "name": "ipython",
    "version": 3
   },
   "file_extension": ".py",
   "mimetype": "text/x-python",
   "name": "python",
   "nbconvert_exporter": "python",
   "pygments_lexer": "ipython3",
   "version": "3.9.1"
  }
 },
 "nbformat": 4,
 "nbformat_minor": 4
}
