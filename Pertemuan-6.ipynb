{
 "cells": [
  {
   "cell_type": "markdown",
   "metadata": {},
   "source": [
    "# CLASS"
   ]
  },
  {
   "cell_type": "markdown",
   "metadata": {},
   "source": [
    "### Penulisan myclass"
   ]
  },
  {
   "cell_type": "code",
   "execution_count": 5,
   "metadata": {},
   "outputs": [
    {
     "name": "stdout",
     "output_type": "stream",
     "text": [
      "5\n",
      "5\n"
     ]
    }
   ],
   "source": [
    "class MyClass:\n",
    "    x=5\n",
    "\n",
    "p1 = MyClass()\n",
    "p2 = MyClass()\n",
    "\n",
    "print(p1.x)\n",
    "print(p2.x)\n",
    "    "
   ]
  },
  {
   "cell_type": "code",
   "execution_count": 8,
   "metadata": {},
   "outputs": [
    {
     "name": "stdout",
     "output_type": "stream",
     "text": [
      "Farhan\n",
      "Adi\n",
      "Halo nama saya Farhan\n",
      "Halo nama saya Adi\n"
     ]
    }
   ],
   "source": [
    "class Person:\n",
    "    def __init__(self, name, age):\n",
    "        self.name = name\n",
    "        self.age = age\n",
    "    \n",
    "    def greeting(self):\n",
    "        print(\"Halo nama saya\", self.name)\n",
    "\n",
    "orang1 = Person(\"Farhan\", 20)\n",
    "orang2 = Person(\"Adi\", 30)\n",
    "print(orang1.name)\n",
    "print(orang2.name)\n",
    "\n",
    "orang1.greeting()\n",
    "orang2.greeting()"
   ]
  },
  {
   "cell_type": "markdown",
   "metadata": {},
   "source": [
    "### Quiz 1"
   ]
  },
  {
   "cell_type": "code",
   "execution_count": null,
   "metadata": {},
   "outputs": [],
   "source": [
    "# Buatlah kalkulator sederhana dengan sin, cos, tan"
   ]
  },
  {
   "cell_type": "code",
   "execution_count": null,
   "metadata": {},
   "outputs": [
    {
     "name": "stdout",
     "output_type": "stream",
     "text": [
      "--Pilih Menu Kalkulator--\n",
      "1. sin\n",
      "2. cos\n",
      "3. tan\n"
     ]
    },
    {
     "name": "stdin",
     "output_type": "stream",
     "text": [
      "Pilih menu (hanya angka): 3\n",
      "tan: 90\n"
     ]
    },
    {
     "name": "stdout",
     "output_type": "stream",
     "text": [
      "-0.4480736161291701\n",
      "--Pilih Menu Kalkulator--\n",
      "1. sin\n",
      "2. cos\n",
      "3. tan\n"
     ]
    },
    {
     "name": "stdin",
     "output_type": "stream",
     "text": [
      "Pilih menu (hanya angka): 7\n"
     ]
    },
    {
     "name": "stdout",
     "output_type": "stream",
     "text": [
      "Menu tidak tersedia\n",
      "--Pilih Menu Kalkulator--\n",
      "1. sin\n",
      "2. cos\n",
      "3. tan\n"
     ]
    }
   ],
   "source": [
    "# MATH modules\n",
    "\n",
    "import math\n",
    "\n",
    "def show_menu():\n",
    "    print (\"--Pilih Menu Kalkulator--\")\n",
    "    print (\"1. sin\")\n",
    "    print (\"2. cos\")\n",
    "    print (\"3. tan\")\n",
    "\n",
    "def menu_sin():\n",
    "    a = int(input(\"sin:\"))\n",
    "    x = math.sin(a)\n",
    "    print(x)\n",
    "    \n",
    "def menu_cos():\n",
    "    a = int(input(\"cos:\"))\n",
    "    y = math.cos(a)\n",
    "    print(y)\n",
    "\n",
    "def menu_tan():\n",
    "    a = int(input(\"tan:\"))\n",
    "    z = math.cos(a)\n",
    "    print(z)\n",
    "    \n",
    "while True:\n",
    "    show_menu()\n",
    "    \n",
    "    menu = int(input(\"Pilih menu (hanya angka):\"))\n",
    "    \n",
    "    if menu == 1: \n",
    "        menu_sin()\n",
    "    elif menu == 2: \n",
    "        menu_cos()\n",
    "    elif menu == 3: \n",
    "        menu_tan()\n",
    "    else: \n",
    "        print (\"Menu tidak tersedia\")\n",
    "        "
   ]
  },
  {
   "cell_type": "code",
   "execution_count": null,
   "metadata": {},
   "outputs": [],
   "source": []
  },
  {
   "cell_type": "code",
   "execution_count": null,
   "metadata": {},
   "outputs": [],
   "source": []
  },
  {
   "cell_type": "code",
   "execution_count": null,
   "metadata": {},
   "outputs": [],
   "source": []
  },
  {
   "cell_type": "code",
   "execution_count": null,
   "metadata": {},
   "outputs": [],
   "source": []
  },
  {
   "cell_type": "code",
   "execution_count": null,
   "metadata": {},
   "outputs": [],
   "source": []
  },
  {
   "cell_type": "code",
   "execution_count": null,
   "metadata": {},
   "outputs": [],
   "source": []
  },
  {
   "cell_type": "code",
   "execution_count": null,
   "metadata": {},
   "outputs": [],
   "source": []
  },
  {
   "cell_type": "code",
   "execution_count": null,
   "metadata": {},
   "outputs": [],
   "source": []
  },
  {
   "cell_type": "code",
   "execution_count": null,
   "metadata": {},
   "outputs": [],
   "source": []
  },
  {
   "cell_type": "code",
   "execution_count": null,
   "metadata": {},
   "outputs": [],
   "source": []
  },
  {
   "cell_type": "code",
   "execution_count": null,
   "metadata": {},
   "outputs": [],
   "source": []
  }
 ],
 "metadata": {
  "kernelspec": {
   "display_name": "Python 3",
   "language": "python",
   "name": "python3"
  },
  "language_info": {
   "codemirror_mode": {
    "name": "ipython",
    "version": 3
   },
   "file_extension": ".py",
   "mimetype": "text/x-python",
   "name": "python",
   "nbconvert_exporter": "python",
   "pygments_lexer": "ipython3",
   "version": "3.9.1"
  }
 },
 "nbformat": 4,
 "nbformat_minor": 4
}
