{
 "cells": [
  {
   "cell_type": "markdown",
   "metadata": {},
   "source": [
    "# Pertemuan 2"
   ]
  },
  {
   "cell_type": "markdown",
   "metadata": {},
   "source": [
    "## User input"
   ]
  },
  {
   "cell_type": "code",
   "execution_count": 1,
   "metadata": {},
   "outputs": [
    {
     "name": "stdin",
     "output_type": "stream",
     "text": [
      "Masukkan nama: Aat\n"
     ]
    },
    {
     "name": "stdout",
     "output_type": "stream",
     "text": [
      "<class 'str'>\n"
     ]
    }
   ],
   "source": [
    "name = input(\"Masukkan nama:\")\n",
    "print(type(name))"
   ]
  },
  {
   "cell_type": "code",
   "execution_count": 2,
   "metadata": {},
   "outputs": [
    {
     "name": "stdin",
     "output_type": "stream",
     "text": [
      "Masukkan nama: 10.7\n"
     ]
    },
    {
     "name": "stdout",
     "output_type": "stream",
     "text": [
      "<class 'str'>\n"
     ]
    }
   ],
   "source": [
    "name = input(\"Masukkan nama:\")\n",
    "print(type(name))"
   ]
  },
  {
   "cell_type": "code",
   "execution_count": 3,
   "metadata": {},
   "outputs": [
    {
     "name": "stdin",
     "output_type": "stream",
     "text": [
      "Masukkan nama: Aat\n"
     ]
    },
    {
     "name": "stdout",
     "output_type": "stream",
     "text": [
      "<class 'str'>\n",
      "Nama Kamu Adalah Aat\n"
     ]
    }
   ],
   "source": [
    "name = input(\"Masukkan nama:\")\n",
    "print(type(name))\n",
    "print(\"Nama Kamu Adalah\" +\" \"+ name)"
   ]
  },
  {
   "cell_type": "code",
   "execution_count": 4,
   "metadata": {},
   "outputs": [
    {
     "name": "stdin",
     "output_type": "stream",
     "text": [
      "Masukkan nama: Aat\n"
     ]
    },
    {
     "name": "stdout",
     "output_type": "stream",
     "text": [
      "<class 'str'>\n",
      "Nama Kamu Adalah Aat\n"
     ]
    }
   ],
   "source": [
    "name = input(\"Masukkan nama:\")\n",
    "print(type(name))\n",
    "print(\"Nama Kamu Adalah\", name)"
   ]
  },
  {
   "cell_type": "markdown",
   "metadata": {},
   "source": [
    "## String Operation"
   ]
  },
  {
   "cell_type": "code",
   "execution_count": null,
   "metadata": {},
   "outputs": [],
   "source": []
  },
  {
   "cell_type": "code",
   "execution_count": 8,
   "metadata": {},
   "outputs": [
    {
     "name": "stdout",
     "output_type": "stream",
     "text": [
      "Hello, world\n"
     ]
    }
   ],
   "source": [
    "a = \"Hello, world\"\n",
    "print(a)"
   ]
  },
  {
   "cell_type": "code",
   "execution_count": 10,
   "metadata": {},
   "outputs": [
    {
     "name": "stdout",
     "output_type": "stream",
     "text": [
      "o\n"
     ]
    }
   ],
   "source": [
    "a = \"Hello, world!\"\n",
    "print(a[4])"
   ]
  },
  {
   "cell_type": "code",
   "execution_count": 12,
   "metadata": {},
   "outputs": [
    {
     "name": "stdout",
     "output_type": "stream",
     "text": [
      "llo, world!\n"
     ]
    }
   ],
   "source": [
    "print(a[2:])"
   ]
  },
  {
   "cell_type": "code",
   "execution_count": 14,
   "metadata": {},
   "outputs": [
    {
     "name": "stdout",
     "output_type": "stream",
     "text": [
      "world!\n"
     ]
    }
   ],
   "source": [
    "print(a[7:])"
   ]
  },
  {
   "cell_type": "code",
   "execution_count": 16,
   "metadata": {},
   "outputs": [
    {
     "name": "stdout",
     "output_type": "stream",
     "text": [
      "\n"
     ]
    }
   ],
   "source": [
    "print(a[7:5])"
   ]
  },
  {
   "cell_type": "code",
   "execution_count": 18,
   "metadata": {},
   "outputs": [
    {
     "name": "stdout",
     "output_type": "stream",
     "text": [
      "ello\n"
     ]
    }
   ],
   "source": [
    "print(a[1:5])"
   ]
  },
  {
   "cell_type": "code",
   "execution_count": 20,
   "metadata": {},
   "outputs": [
    {
     "name": "stdout",
     "output_type": "stream",
     "text": [
      "Hello\n"
     ]
    }
   ],
   "source": [
    "print(a[0:5])"
   ]
  },
  {
   "cell_type": "code",
   "execution_count": 22,
   "metadata": {},
   "outputs": [
    {
     "name": "stdout",
     "output_type": "stream",
     "text": [
      "world!\n"
     ]
    }
   ],
   "source": [
    "print(a[7:13])"
   ]
  },
  {
   "cell_type": "code",
   "execution_count": 24,
   "metadata": {},
   "outputs": [
    {
     "name": "stdout",
     "output_type": "stream",
     "text": [
      "orld!\n"
     ]
    }
   ],
   "source": [
    "print(a[-5:])"
   ]
  },
  {
   "cell_type": "code",
   "execution_count": 26,
   "metadata": {},
   "outputs": [
    {
     "name": "stdout",
     "output_type": "stream",
     "text": [
      "world!\n"
     ]
    }
   ],
   "source": [
    "print(a[-6:])"
   ]
  },
  {
   "cell_type": "code",
   "execution_count": 30,
   "metadata": {},
   "outputs": [
    {
     "name": "stdout",
     "output_type": "stream",
     "text": [
      "Hello, world! Hello\n"
     ]
    }
   ],
   "source": [
    "tes = \"Hello\"\n",
    "b = a +\" \"+  tes\n",
    "print(b)"
   ]
  },
  {
   "cell_type": "code",
   "execution_count": 32,
   "metadata": {},
   "outputs": [
    {
     "name": "stdout",
     "output_type": "stream",
     "text": [
      "('Hello, world!', ' ', 'Hello')\n"
     ]
    }
   ],
   "source": [
    "tes = \"Hello\"\n",
    "b = a, \" \" , tes\n",
    "print(b)"
   ]
  },
  {
   "cell_type": "code",
   "execution_count": 51,
   "metadata": {},
   "outputs": [
    {
     "name": "stdin",
     "output_type": "stream",
     "text": [
      "Masukkan nama: Aat\n"
     ]
    },
    {
     "name": "stdout",
     "output_type": "stream",
     "text": [
      "Nama Saya Aat dan saya 17 tahun\n",
      "Nama Saya Aat 17 tahun\n",
      "Nama Saya Aat dan Saya 17 tahun\n",
      "('Nama Saya', 'Aat', 'dan Saya', 17, 'tahun')\n",
      "Nama Saya Aat dan Saya 17 tahun\n"
     ]
    }
   ],
   "source": [
    "nama = input(\"Masukkan nama:\")\n",
    "umur = 17\n",
    "\n",
    "text = \"Nama Saya {} dan saya {} tahun\".format(nama, umur) #ype penulisan pertama dengan .format\n",
    "print(text)\n",
    "\n",
    "text2 = \"Nama Saya\" +\" \"+ nama +\" \"+ str(umur) +\" \"+ \"tahun\" #type penulisan kedua --> dengan +\" \"+\n",
    "print(text2)\n",
    "\n",
    "text3 = \"Nama Saya\" +\" \"+ nama +\" \"+\"dan Saya\"+\" \"+ str(umur) +\" \"+ \"tahun\" #data umur kalau mau digabung dengan konsep ini harus dirubah dari integer ke string str(x)\n",
    "print(text3)\n",
    "\n",
    "text4 = \"Nama Saya\", nama, \"dan Saya\", umur , \"tahun\" #ini akan menunjukan type data \n",
    "print(text4) #ini akan menunjukan type data\n",
    "\n",
    "print(\"Nama Saya\", nama, \"dan Saya\", umur , \"tahun\")"
   ]
  },
  {
   "cell_type": "markdown",
   "metadata": {},
   "source": [
    "## Conditional If"
   ]
  },
  {
   "cell_type": "code",
   "execution_count": 61,
   "metadata": {},
   "outputs": [
    {
     "name": "stdout",
     "output_type": "stream",
     "text": [
      "a lebih kecil dari b\n"
     ]
    }
   ],
   "source": [
    "# Conditional if\n",
    "#hanya data STRING yang tidak bisa digabungkan di CONDITIONAL IF\n",
    "\n",
    "#dengan data INTEGER DAN INTEGER\n",
    "a = 10\n",
    "b = 11\n",
    "\n",
    "if a>b:\n",
    "    print(\"a lebih besar dari b\")\n",
    "elif a==b:\n",
    "    print(\"a sama dengan b\")\n",
    "else:\n",
    "    print(\"a lebih kecil dari b\")"
   ]
  },
  {
   "cell_type": "code",
   "execution_count": 58,
   "metadata": {},
   "outputs": [
    {
     "name": "stdout",
     "output_type": "stream",
     "text": [
      "True\n",
      "False\n",
      "True\n",
      "False\n",
      "True\n"
     ]
    }
   ],
   "source": [
    "print(True and True)\n",
    "print(True and False)\n",
    "print(True or False)\n",
    "print(not True)\n",
    "print(not False)"
   ]
  },
  {
   "cell_type": "code",
   "execution_count": 62,
   "metadata": {},
   "outputs": [
    {
     "name": "stdout",
     "output_type": "stream",
     "text": [
      "a lebih besar dari b\n"
     ]
    }
   ],
   "source": [
    "#dengan data INTEGER DAN FLOAT\n",
    "a = 15.7\n",
    "b = 11\n",
    "\n",
    "if a>b:\n",
    "    print(\"a lebih besar dari b\")\n",
    "elif a==b:\n",
    "    print(\"a sama dengan b\")\n",
    "else:\n",
    "    print(\"a lebih kecil dari b\")"
   ]
  },
  {
   "cell_type": "code",
   "execution_count": 67,
   "metadata": {},
   "outputs": [
    {
     "name": "stdout",
     "output_type": "stream",
     "text": [
      "a lebih kecil dari b\n",
      "b lebih besar dari c\n",
      "a lebih besar dari c\n"
     ]
    }
   ],
   "source": [
    "#dengan data INTEGER DAN BOOLEAN; BOOLEAN vs BOOLEAN\n",
    "a = True\n",
    "b = 11\n",
    "c = False\n",
    "\n",
    "if a>b:\n",
    "    print(\"a lebih besar dari b\")\n",
    "elif a==b:\n",
    "    print(\"a sama dengan b\")\n",
    "else:\n",
    "    print(\"a lebih kecil dari b\")\n",
    "    \n",
    "if b>c:\n",
    "    print(\"b lebih besar dari c\")\n",
    "elif b==c:\n",
    "    print(\"b sama dengan c\")\n",
    "else:\n",
    "    print(\"b lebih kecil dari c\")\n",
    "    \n",
    "if a>c:\n",
    "    print(\"a lebih besar dari c\")\n",
    "elif a==c:\n",
    "    print(\"a sama dengan c\")\n",
    "else:\n",
    "    print(\"a lebih kecil dari c\")"
   ]
  },
  {
   "cell_type": "markdown",
   "metadata": {},
   "source": [
    "## List"
   ]
  },
  {
   "cell_type": "code",
   "execution_count": 70,
   "metadata": {},
   "outputs": [
    {
     "name": "stdout",
     "output_type": "stream",
     "text": [
      "[1, 2, 3, 100]\n"
     ]
    }
   ],
   "source": [
    "mylist = []\n",
    "mylist.append(1)   #append berfungsi untuk menambahkan data di variable mylist\n",
    "mylist.append(2)\n",
    "mylist.append(3)\n",
    "mylist.append(100)\n",
    "print(mylist)"
   ]
  },
  {
   "cell_type": "code",
   "execution_count": 72,
   "metadata": {},
   "outputs": [
    {
     "name": "stdout",
     "output_type": "stream",
     "text": [
      "4\n"
     ]
    }
   ],
   "source": [
    "print(len(mylist))  #ini untuk mencari tahu PANJANG DATA"
   ]
  },
  {
   "cell_type": "code",
   "execution_count": 75,
   "metadata": {},
   "outputs": [
    {
     "name": "stdout",
     "output_type": "stream",
     "text": [
      "100\n"
     ]
    }
   ],
   "source": [
    "print(mylist[3])   #untuk memanggil data ke 3 dari mylist (data dihitung dari 0)"
   ]
  },
  {
   "cell_type": "markdown",
   "metadata": {},
   "source": [
    "# APPEND DAN LEN"
   ]
  },
  {
   "cell_type": "code",
   "execution_count": 79,
   "metadata": {},
   "outputs": [
    {
     "name": "stdout",
     "output_type": "stream",
     "text": [
      "['a', 'b']\n",
      "a\n",
      "2\n"
     ]
    }
   ],
   "source": [
    "mylist2 = []\n",
    "mylist2.append(\"a\")   #append berfungsi untuk MENAMBAHKAN data di variable mylist2\n",
    "mylist2.append(\"b\")\n",
    "print(mylist2)   #untuk mencetak data di variable mylist2\n",
    "print(mylist2[0])   #untuk mencetak daya pada urutan ke-0 di variable mylist\n",
    "print(len(mylist2))  #LEN untuk menghitung jumlah data di mylist"
   ]
  },
  {
   "cell_type": "code",
   "execution_count": 94,
   "metadata": {},
   "outputs": [
    {
     "name": "stdout",
     "output_type": "stream",
     "text": [
      "Nilai:1\n",
      "Nilai:2\n",
      "Nilai:3\n",
      "Nilai:100\n",
      "Nilai:a\n",
      "Nilai:b\n",
      "Nilai:a\n",
      "Nilai:b\n"
     ]
    }
   ],
   "source": [
    "#LOOPING\n",
    "\n",
    "for r in mylist:\n",
    "    print(\"Nilai:\" + str(r))"
   ]
  },
  {
   "cell_type": "code",
   "execution_count": 88,
   "metadata": {},
   "outputs": [
    {
     "name": "stdout",
     "output_type": "stream",
     "text": [
      "Nilai:a\n",
      "Nilai:b\n"
     ]
    }
   ],
   "source": [
    "for i in mylist2:\n",
    "    print(\"Nilai:\" + str(i))"
   ]
  },
  {
   "cell_type": "code",
   "execution_count": 87,
   "metadata": {},
   "outputs": [
    {
     "name": "stdout",
     "output_type": "stream",
     "text": [
      "Nilai: 1\n",
      "Nilai: 2\n",
      "Nilai: 3\n",
      "Nilai: 100\n",
      "Nilai: a\n",
      "Nilai: b\n",
      "Nilai: a\n",
      "Nilai: b\n"
     ]
    }
   ],
   "source": [
    "for i in mylist:\n",
    "    print(\"Nilai:\", i)"
   ]
  },
  {
   "cell_type": "code",
   "execution_count": 90,
   "metadata": {},
   "outputs": [
    {
     "name": "stdout",
     "output_type": "stream",
     "text": [
      "Nilai:a\n",
      "Nilai:b\n"
     ]
    }
   ],
   "source": [
    "for z in mylist2:\n",
    "    print(\"Nilai:\" + z)"
   ]
  },
  {
   "cell_type": "code",
   "execution_count": 91,
   "metadata": {},
   "outputs": [
    {
     "name": "stdout",
     "output_type": "stream",
     "text": [
      "apel\n",
      "jeruk\n",
      "mangga\n",
      "lemon\n",
      "salak\n",
      "5\n",
      "('apel', 'jeruk', 'mangga', 'lemon', 'salak')\n"
     ]
    }
   ],
   "source": [
    "nama_buah = (\"apel\", \"jeruk\", \"mangga\", \"lemon\", \"salak\")\n",
    "\n",
    "print(nama_buah[0])\n",
    "print(nama_buah[1])\n",
    "print(nama_buah[2])\n",
    "print(nama_buah[3])\n",
    "print(nama_buah[4])\n",
    "print(len(nama_buah))\n",
    "print(nama_buah)"
   ]
  },
  {
   "cell_type": "markdown",
   "metadata": {},
   "source": [
    "# LOOP"
   ]
  },
  {
   "cell_type": "code",
   "execution_count": 92,
   "metadata": {},
   "outputs": [
    {
     "name": "stdout",
     "output_type": "stream",
     "text": [
      "apel\n",
      "jeruk\n",
      "mangga\n",
      "lemon\n",
      "salak\n"
     ]
    }
   ],
   "source": [
    "#lOOPING\n",
    "\n",
    "for a in nama_buah:\n",
    "    print(a)"
   ]
  },
  {
   "cell_type": "markdown",
   "metadata": {},
   "source": [
    "# While"
   ]
  },
  {
   "cell_type": "code",
   "execution_count": 95,
   "metadata": {},
   "outputs": [
    {
     "name": "stdout",
     "output_type": "stream",
     "text": [
      "1\n",
      "2\n",
      "3\n",
      "4\n",
      "5\n",
      "6\n"
     ]
    }
   ],
   "source": [
    "#FOR WHILE\n",
    "# for while adalah LOOPING dengan KONDISI TERTENTU\n",
    "\n",
    "i = 1\n",
    "while i <= 6:\n",
    "    print(i)\n",
    "    i += 1"
   ]
  },
  {
   "cell_type": "code",
   "execution_count": 96,
   "metadata": {},
   "outputs": [
    {
     "name": "stdout",
     "output_type": "stream",
     "text": [
      "1\n",
      "2\n",
      "3\n",
      "4\n",
      "5\n",
      "6\n",
      "7\n",
      "8\n"
     ]
    }
   ],
   "source": [
    "for y in range(1,9):\n",
    "    print(y)"
   ]
  },
  {
   "cell_type": "code",
   "execution_count": 97,
   "metadata": {},
   "outputs": [
    {
     "name": "stdout",
     "output_type": "stream",
     "text": [
      "1\n",
      "2\n",
      "3\n",
      "4\n",
      "5\n",
      "6\n",
      "7\n",
      "8\n",
      "Selesai\n"
     ]
    }
   ],
   "source": [
    "for y in range(1,9):\n",
    "    print(y)\n",
    "    \n",
    "print(\"Selesai\")"
   ]
  },
  {
   "cell_type": "markdown",
   "metadata": {},
   "source": [
    "# ROUND"
   ]
  },
  {
   "cell_type": "code",
   "execution_count": 102,
   "metadata": {},
   "outputs": [
    {
     "name": "stdout",
     "output_type": "stream",
     "text": [
      "3.15\n",
      "3\n"
     ]
    }
   ],
   "source": [
    "#ROUND\n",
    "#ROUND berfungsi untuk membulatkan data FLOAT menjadi sekiand decimal\n",
    "\n",
    "float = 3.1467\n",
    "print(round(float, 2))    #membulatkan menjadi sekian decimal\n",
    "print(int(float))         #mengubah data float menjadi integer"
   ]
  },
  {
   "cell_type": "code",
   "execution_count": 101,
   "metadata": {},
   "outputs": [
    {
     "name": "stdout",
     "output_type": "stream",
     "text": [
      "3.15\n"
     ]
    }
   ],
   "source": [
    "print(round(3.1467, 2))"
   ]
  },
  {
   "cell_type": "code",
   "execution_count": null,
   "metadata": {},
   "outputs": [],
   "source": []
  }
 ],
 "metadata": {
  "kernelspec": {
   "display_name": "Python 3",
   "language": "python",
   "name": "python3"
  },
  "language_info": {
   "codemirror_mode": {
    "name": "ipython",
    "version": 3
   },
   "file_extension": ".py",
   "mimetype": "text/x-python",
   "name": "python",
   "nbconvert_exporter": "python",
   "pygments_lexer": "ipython3",
   "version": "3.9.1"
  }
 },
 "nbformat": 4,
 "nbformat_minor": 4
}
