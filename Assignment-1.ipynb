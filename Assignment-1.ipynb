{
 "cells": [
  {
   "cell_type": "markdown",
   "metadata": {},
   "source": [
    "# SOAL 1"
   ]
  },
  {
   "cell_type": "code",
   "execution_count": 1,
   "metadata": {},
   "outputs": [
    {
     "name": "stdin",
     "output_type": "stream",
     "text": [
      "Masukkan Nama Aat\n",
      "Masukkan umur 28\n",
      "Masukkan tinggi 159.5\n"
     ]
    },
    {
     "name": "stdout",
     "output_type": "stream",
     "text": [
      "Nama saya Aat, umur saya 28 tahun dan tinggi saya 159.5 cm.\n",
      "Nama saya Aat, umur saya 28 tahun dan tinggi saya 159.5 cm.\n"
     ]
    }
   ],
   "source": [
    "#contoh Nama saya Farhan, umur saya 23 tahun dan tinggi saya 167.5 cm.\n",
    "\n",
    "nama = input(\"Masukkan Nama\")\n",
    "umur = input(\"Masukkan umur\")\n",
    "tinggi = input (\"Masukkan tinggi\")\n",
    "print(\"Nama saya\", nama +\", \"+ \"umur saya\", int(umur), \"tahun dan tinggi saya\", float(tinggi), \"cm.\")\n",
    "\n",
    "text = \"Nama saya {}, umur saya {} tahun dan tinggi saya {} cm.\".format(nama, int(umur), float(tinggi))\n",
    "print(text)"
   ]
  },
  {
   "cell_type": "markdown",
   "metadata": {},
   "source": [
    "# SOAL 2"
   ]
  },
  {
   "cell_type": "code",
   "execution_count": 1,
   "metadata": {},
   "outputs": [
    {
     "name": "stdin",
     "output_type": "stream",
     "text": [
      "Masukkan jari-jari lingkaran 10\n"
     ]
    },
    {
     "name": "stdout",
     "output_type": "stream",
     "text": [
      "Luas lingkaran dengan jari-jari 10 cm adalah 314.29 cm²\n"
     ]
    }
   ],
   "source": [
    "#contoh: Luas lingkaran dengan jari-jari 10 cm adalah 314.29 cm² .\n",
    "\n",
    "jari = input(\"Masukkan jari-jari lingkaran\")\n",
    "phi = float(22/7)   #Q= apakah input yang kita masukkan selalu dibaca string? apabila bukan int atau bilangan bulat\n",
    "L = phi*pow(int(jari), 2)\n",
    "\n",
    "text2 = \"Luas lingkaran dengan jari-jari {} cm adalah {:.2f} cm\\u00b2\".format(jari, L)\n",
    "print(text2)"
   ]
  },
  {
   "cell_type": "markdown",
   "metadata": {},
   "source": [
    "# SOAL 3"
   ]
  },
  {
   "cell_type": "code",
   "execution_count": 1,
   "metadata": {},
   "outputs": [
    {
     "name": "stdin",
     "output_type": "stream",
     "text": [
      "Masukkan nilai ujian teori 80\n",
      "Masukkan nilai ujian praktek 90\n"
     ]
    },
    {
     "name": "stdout",
     "output_type": "stream",
     "text": [
      "Selamat, Anda lulus!\n"
     ]
    }
   ],
   "source": [
    "Teori = input(\"Masukkan nilai ujian teori\")\n",
    "Praktek = input (\"Masukkan nilai ujian praktek\")\n",
    "#bisa ditulis misal teori = float(input(\"....\"))\n",
    "\n",
    "T = float(Teori) #untuk mengubah dari input str ke float\n",
    "P = float(Praktek) #untuk mengubah dari input str ke float\n",
    "\n",
    "#print(type(T))\n",
    "#print(type(P))\n",
    "\n",
    "if T>=70 and P>=70:\n",
    "    print(\"Selamat, Anda lulus!\")\n",
    "elif T>=70 and P<70:\n",
    "    print(\"Anda harus mengulang ujian praktek.\")\n",
    "elif T<70 and P>=70:\n",
    "    print(\"Anda harus mengulang ujian teori.\")\n",
    "else:\n",
    "    print(\"Anda harus mengulang ujian teori dan praktek.\")"
   ]
  },
  {
   "cell_type": "code",
   "execution_count": null,
   "metadata": {},
   "outputs": [],
   "source": []
  }
 ],
 "metadata": {
  "kernelspec": {
   "display_name": "Python 3",
   "language": "python",
   "name": "python3"
  },
  "language_info": {
   "codemirror_mode": {
    "name": "ipython",
    "version": 3
   },
   "file_extension": ".py",
   "mimetype": "text/x-python",
   "name": "python",
   "nbconvert_exporter": "python",
   "pygments_lexer": "ipython3",
   "version": "3.9.1"
  }
 },
 "nbformat": 4,
 "nbformat_minor": 4
}
