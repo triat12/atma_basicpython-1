{
 "cells": [
  {
   "cell_type": "markdown",
   "metadata": {},
   "source": [
    "# DICTIONARY AND FUNCTION"
   ]
  },
  {
   "cell_type": "markdown",
   "metadata": {},
   "source": [
    "## Dictionary"
   ]
  },
  {
   "cell_type": "code",
   "execution_count": 2,
   "metadata": {},
   "outputs": [],
   "source": [
    "# Dictionary adalah kumpulan data yang terindeks, beda dengan LIST --> LIST adalah kumpulan variable, termasuk dictionary bisa ditulis didalamnya\n",
    "# penulisan menggunakan {}\n",
    "# terdapa KEYS [] and VALUES, KEYS semacam header di excel"
   ]
  },
  {
   "cell_type": "markdown",
   "metadata": {},
   "source": [
    "### Penulisan Dictionary"
   ]
  },
  {
   "cell_type": "code",
   "execution_count": 4,
   "metadata": {},
   "outputs": [
    {
     "name": "stdout",
     "output_type": "stream",
     "text": [
      "Nama: farhan\n",
      "Umur: 21\n"
     ]
    }
   ],
   "source": [
    "pelanggan = {                                 ##penulisan format DICTIONARY STYLE 1\n",
    "    \"nama\" : \"farhan\",\n",
    "    \"umur\" : \"21\"\n",
    "}\n",
    "\n",
    "pelanggan_2 = {\"nama\": \"andi\", \"umur\" : 18}    #penulisan format DICTIONARY STYLE 2\n",
    "\n",
    "print(\"Nama: {}\".format(pelanggan[\"nama\"]))\n",
    "print(\"Umur: {}\".format(pelanggan[\"umur\"]))"
   ]
  },
  {
   "cell_type": "code",
   "execution_count": 5,
   "metadata": {},
   "outputs": [
    {
     "name": "stdout",
     "output_type": "stream",
     "text": [
      "Nama: andi\n",
      "Umur: 18\n"
     ]
    }
   ],
   "source": [
    "print(\"Nama: {}\".format(pelanggan_2[\"nama\"]))\n",
    "print(\"Umur: {}\".format(pelanggan_2[\"umur\"]))"
   ]
  },
  {
   "cell_type": "code",
   "execution_count": 6,
   "metadata": {},
   "outputs": [
    {
     "name": "stdout",
     "output_type": "stream",
     "text": [
      "Nama: {'nama': 'farhan', 'umur': '21'}\n"
     ]
    }
   ],
   "source": [
    "print(\"Nama: {}\".format(pelanggan))   #tanpa ditulis keys-nya maka akan muncul isi didalam si dictionary-nya seperti ini:"
   ]
  },
  {
   "cell_type": "code",
   "execution_count": 7,
   "metadata": {},
   "outputs": [
    {
     "name": "stdout",
     "output_type": "stream",
     "text": [
      "{'nama': 'farhan', 'umur': '21'}\n"
     ]
    }
   ],
   "source": [
    "print(pelanggan)"
   ]
  },
  {
   "cell_type": "markdown",
   "metadata": {},
   "source": [
    "### Mengganti nilai dalam dictionary"
   ]
  },
  {
   "cell_type": "code",
   "execution_count": 8,
   "metadata": {},
   "outputs": [
    {
     "name": "stdout",
     "output_type": "stream",
     "text": [
      "{'nama': 'farhan', 'umur': 22}\n"
     ]
    }
   ],
   "source": [
    "# mengubah value dalm dictinionary seperti ini:\n",
    "\n",
    "pelanggan [\"umur\"] = 22    #hasilnya umur farhan jadi 22\n",
    "print(pelanggan)"
   ]
  },
  {
   "cell_type": "code",
   "execution_count": 9,
   "metadata": {},
   "outputs": [
    {
     "name": "stdout",
     "output_type": "stream",
     "text": [
      "Nama: farhan\n",
      "Umur: 22\n"
     ]
    }
   ],
   "source": [
    "print(\"Nama: {}\".format(pelanggan[\"nama\"]))   #check hasil\n",
    "print(\"Umur: {}\".format(pelanggan[\"umur\"]))"
   ]
  },
  {
   "cell_type": "code",
   "execution_count": 13,
   "metadata": {},
   "outputs": [
    {
     "name": "stdout",
     "output_type": "stream",
     "text": [
      "Nama: andi \n",
      "Umur: 18\n"
     ]
    }
   ],
   "source": [
    "print(\"Nama: {} \\nUmur: {}\".format(pelanggan[\"nama\"], pelanggan[\"umur\"]))"
   ]
  },
  {
   "cell_type": "markdown",
   "metadata": {},
   "source": [
    "### Loop Dictionary"
   ]
  },
  {
   "cell_type": "code",
   "execution_count": 14,
   "metadata": {},
   "outputs": [
    {
     "name": "stdout",
     "output_type": "stream",
     "text": [
      "nama\n",
      "farhan\n",
      "andi\n",
      "umur\n",
      "22\n",
      "18\n"
     ]
    }
   ],
   "source": [
    "for x in pelanggan:\n",
    "    print(x)\n",
    "    print(pelanggan [x])\n",
    "    print(pelanggan_2 [x])"
   ]
  },
  {
   "cell_type": "markdown",
   "metadata": {},
   "source": [
    "### List Dictionary"
   ]
  },
  {
   "cell_type": "code",
   "execution_count": 4,
   "metadata": {},
   "outputs": [
    {
     "name": "stdout",
     "output_type": "stream",
     "text": [
      "Nama: farhan\n",
      "Nama: 21\n",
      "Nama: andi\n",
      "Nama: 18\n"
     ]
    }
   ],
   "source": [
    "pelanggan = {                                 ##penulisan format DICTIONARY STYLE 1\n",
    "    \"nama\" : \"farhan\",\n",
    "    \"umur\" : \"21\"\n",
    "}\n",
    "\n",
    "pelanggan_2 = {\"nama\": \"andi\", \"umur\" : 18}    #penulisan format DICTIONARY STYLE 2\n",
    "\n",
    "daftar_pelanggan = []     #simbol fungsi list\n",
    "daftar_pelanggan.append(pelanggan)\n",
    "daftar_pelanggan.append(pelanggan_2)\n",
    "\n",
    "for pelanggan in daftar_pelanggan:\n",
    "    print(\"Nama: {}\".format(pelanggan[\"nama\"]))\n",
    "    print(\"Nama: {}\".format(pelanggan[\"umur\"]))\n"
   ]
  },
  {
   "cell_type": "markdown",
   "metadata": {},
   "source": [
    "### Menghapus Nilai didalam Dictionary"
   ]
  },
  {
   "cell_type": "code",
   "execution_count": 26,
   "metadata": {},
   "outputs": [
    {
     "name": "stdout",
     "output_type": "stream",
     "text": [
      "{}\n"
     ]
    }
   ],
   "source": [
    "#CLEAR\n",
    "\n",
    "data = {\"Nama\": \"Zara\", \"Umur\": 25, \"Kelas\":\"Lima\"}\n",
    "data.clear()    #CLEAR berfungsi untuk menghapus semua entri didalam dictionary\n",
    "print(data)"
   ]
  },
  {
   "cell_type": "code",
   "execution_count": 27,
   "metadata": {},
   "outputs": [
    {
     "name": "stdout",
     "output_type": "stream",
     "text": [
      "{'Umur': 25, 'Kelas': 'Lima'}\n"
     ]
    }
   ],
   "source": [
    "#DELETE\n",
    "\n",
    "data = {\"Nama\": \"Zara\", \"Umur\": 25, \"Kelas\":\"Lima\"}\n",
    "del data [\"Nama\"]    #DEL berfungsi untuk menghapus sebagian isi Dictionary dengan KEYS berupa Nama\n",
    "print(data)"
   ]
  },
  {
   "cell_type": "code",
   "execution_count": 28,
   "metadata": {},
   "outputs": [
    {
     "name": "stdout",
     "output_type": "stream",
     "text": [
      "{'Nama': 'Zara', 'Umur': 25, 'Kelas': 'Lima'}\n"
     ]
    }
   ],
   "source": [
    "data = {\"Nama\": \"Zara\", \"Umur\": 25, \"Kelas\":\"Lima\"}\n",
    "print(data)"
   ]
  },
  {
   "cell_type": "code",
   "execution_count": 32,
   "metadata": {},
   "outputs": [
    {
     "name": "stdout",
     "output_type": "stream",
     "text": [
      "dictionary [Nama]: Zara\n",
      "dictionary [Kelas]: Lima\n"
     ]
    }
   ],
   "source": [
    "data = {\"Nama\": \"Zara\", \"Umur\": 25, \"Kelas\":\"Lima\"}\n",
    "print(\"dictionary [Nama]:\", data[\"Nama\"])\n",
    "print(\"dictionary [Kelas]:\", data[\"Kelas\"])"
   ]
  },
  {
   "cell_type": "code",
   "execution_count": null,
   "metadata": {},
   "outputs": [],
   "source": []
  },
  {
   "cell_type": "markdown",
   "metadata": {},
   "source": [
    "## FUNCTION"
   ]
  },
  {
   "cell_type": "code",
   "execution_count": null,
   "metadata": {},
   "outputs": [],
   "source": [
    "# hanya berjalan kalau dipanggil  --> INI function NOL ditulis function()\n",
    "# ada berbagai macam function\n"
   ]
  },
  {
   "cell_type": "markdown",
   "metadata": {},
   "source": [
    "### FUNCTION pada umumnya"
   ]
  },
  {
   "cell_type": "code",
   "execution_count": 33,
   "metadata": {},
   "outputs": [
    {
     "name": "stdout",
     "output_type": "stream",
     "text": [
      "Hello ini hanya coba function\n",
      "ini adalah function\n",
      "ini percobaan pertama\n"
     ]
    }
   ],
   "source": [
    "def coba_function():\n",
    "    print(\"Hello ini hanya coba function\")    #print ini adalah parameter didalam atau bagian dari FUNCTION\n",
    "    print(\"ini adalah function\")\n",
    "    print(\"ini percobaan pertama\")\n",
    "    \n",
    "coba_function()    #Ini untuk memanggil si coba_function"
   ]
  },
  {
   "cell_type": "markdown",
   "metadata": {},
   "source": [
    "### FUNCTION with Parameter"
   ]
  },
  {
   "cell_type": "code",
   "execution_count": 18,
   "metadata": {},
   "outputs": [
    {
     "name": "stdout",
     "output_type": "stream",
     "text": [
      "Hello Adi - Wijaya\n",
      "Hello Tri - Atmaja\n",
      "Hello Jokowi -  \n"
     ]
    }
   ],
   "source": [
    "def my_function (first_name, last_name=\" \"):      #=\" \" --> maksudnya last_name bisa dikosongkan\n",
    "    print(\"Hello {} - {}\".format(first_name, last_name))    #PRINT function STYLE-1\n",
    "    \n",
    "my_function(\"Adi\", \"Wijaya\")\n",
    "my_function(\"Tri\", \"Atmaja\")\n",
    "my_function(\"Jokowi\")"
   ]
  },
  {
   "cell_type": "code",
   "execution_count": 20,
   "metadata": {},
   "outputs": [
    {
     "name": "stdout",
     "output_type": "stream",
     "text": [
      "Hello Adi Wijaya\n",
      "Hello Tri Atmaja\n",
      "Hello Jokowi  \n"
     ]
    }
   ],
   "source": [
    "def my_function (first_name, last_name=\" \"):      #=\" \" --> maksudnya last_name bisa dikosongkan\n",
    "    print(\"Hello\", first_name, last_name)         ## PRINT function STYLE-2 \n",
    "    #print(\"Hello\" + \"  \" + first_name + \" \" + last_name)       ### PRINT function STYLE-3 dengan \n",
    "    \n",
    "my_function(\"Adi\", \"Wijaya\")\n",
    "my_function(\"Tri\", \"Atmaja\")\n",
    "my_function(\"Jokowi\")"
   ]
  },
  {
   "cell_type": "code",
   "execution_count": 36,
   "metadata": {},
   "outputs": [
    {
     "name": "stdout",
     "output_type": "stream",
     "text": [
      "Hello   -  \n"
     ]
    }
   ],
   "source": [
    "def my_function (first_name=\" \", last_name=\" \"):      #=\" \" --> maksudnya baik first_name dan last_name bisa dikosongkan\n",
    "    print(\"Hello {} - {}\".format(first_name, last_name))\n",
    "    \n",
    "my_function()"
   ]
  },
  {
   "cell_type": "markdown",
   "metadata": {},
   "source": [
    "### FUNCTION KEYWORD PARAMETER"
   ]
  },
  {
   "cell_type": "code",
   "execution_count": 40,
   "metadata": {},
   "outputs": [
    {
     "name": "stdout",
     "output_type": "stream",
     "text": [
      "Anak yang paling kecil adalah Lusi\n",
      "Anak yang paling kecil adalah Adi\n"
     ]
    }
   ],
   "source": [
    "def my_function2 (anak_ke3, anak_ke2, anak_ke1):\n",
    "    print(\"Anak yang paling kecil adalah\", anak_ke3)\n",
    "    \n",
    "my_function2 (anak_ke1 = \"Adi\", anak_ke2 = \"Budi\", anak_ke3 = \"Lusi\")    #my function disertai PARAMETER\n",
    "my_function2 (\"Adi\", \"Budi\", \"Lusi\")    #TANPA parameter"
   ]
  },
  {
   "cell_type": "markdown",
   "metadata": {},
   "source": [
    "### Contoh gabungan LIST dan FUNCTION"
   ]
  },
  {
   "cell_type": "code",
   "execution_count": 42,
   "metadata": {},
   "outputs": [
    {
     "name": "stdout",
     "output_type": "stream",
     "text": [
      "Jeruk\n",
      "---------\n",
      "Jeruk\n",
      "Apel\n",
      "---------\n",
      "Jeruk\n",
      "Apel\n",
      "Melon\n",
      "---------\n",
      "Jeruk\n",
      "Apel\n",
      "Melon\n",
      "Pisang\n",
      "---------\n"
     ]
    }
   ],
   "source": [
    "nama_buah = []\n",
    "\n",
    "def tambah_nama_buah (nama):\n",
    "    nama_buah.append(nama)\n",
    "    print_nama_buah()\n",
    "    \n",
    "def print_nama_buah():\n",
    "    for buah in nama_buah:\n",
    "        print(buah)\n",
    "    print(\"---------\")\n",
    "        \n",
    "tambah_nama_buah(\"Jeruk\")\n",
    "tambah_nama_buah(\"Apel\")\n",
    "tambah_nama_buah(\"Melon\")\n",
    "tambah_nama_buah(\"Pisang\")"
   ]
  },
  {
   "cell_type": "markdown",
   "metadata": {},
   "source": [
    "## RETURN"
   ]
  },
  {
   "cell_type": "code",
   "execution_count": 43,
   "metadata": {},
   "outputs": [
    {
     "data": {
      "text/plain": [
       "7"
      ]
     },
     "execution_count": 43,
     "metadata": {},
     "output_type": "execute_result"
    }
   ],
   "source": [
    "def total(x,y):\n",
    "    total = x + y\n",
    "    return total\n",
    "\n",
    "total (5,2)"
   ]
  },
  {
   "cell_type": "code",
   "execution_count": 26,
   "metadata": {},
   "outputs": [
    {
     "name": "stdout",
     "output_type": "stream",
     "text": [
      "15\n"
     ]
    }
   ],
   "source": [
    "def my_function(x):\n",
    "    return 5 * x\n",
    "\n",
    "print(my_function(3))   #bisa dengan fungsi print(my_function(3)) atau hanya my_function(3)"
   ]
  },
  {
   "cell_type": "code",
   "execution_count": 44,
   "metadata": {},
   "outputs": [
    {
     "data": {
      "text/plain": [
       "10"
      ]
     },
     "execution_count": 44,
     "metadata": {},
     "output_type": "execute_result"
    }
   ],
   "source": [
    "def total(x,y):\n",
    "    total = x + y\n",
    "    return 10\n",
    "\n",
    "total (5,2)   #yang terbaca 10-nya"
   ]
  },
  {
   "cell_type": "code",
   "execution_count": 46,
   "metadata": {},
   "outputs": [
    {
     "name": "stdout",
     "output_type": "stream",
     "text": [
      "7\n"
     ]
    }
   ],
   "source": [
    "def total(x,y):\n",
    "    total = x + y\n",
    "    return total\n",
    "\n",
    "def total_buah_sisa():\n",
    "    return 20\n",
    "\n",
    "jumlah = total (5,2)\n",
    "print(jumlah)"
   ]
  },
  {
   "cell_type": "code",
   "execution_count": 49,
   "metadata": {},
   "outputs": [
    {
     "name": "stdout",
     "output_type": "stream",
     "text": [
      "7\n",
      "24\n"
     ]
    }
   ],
   "source": [
    "def total(x,y):\n",
    "    total = x + y\n",
    "    return total\n",
    "\n",
    "def total_buah_sisa():\n",
    "    return 20\n",
    "\n",
    "jumlah = total (5,2)\n",
    "print(jumlah)\n",
    "\n",
    "total_buah = len(nama_buah) + total_buah_sisa()    #karena buah diatas ada 4 Jeruk, Apel, Melon dan Pisang ditambah 20 jadi 24\n",
    "print(total_buah)\n"
   ]
  },
  {
   "cell_type": "markdown",
   "metadata": {},
   "source": [
    "## CONTOH LATIHAN"
   ]
  },
  {
   "cell_type": "code",
   "execution_count": 50,
   "metadata": {},
   "outputs": [
    {
     "data": {
      "text/plain": [
       "4"
      ]
     },
     "execution_count": 50,
     "metadata": {},
     "output_type": "execute_result"
    }
   ],
   "source": [
    "def luas_persegi(sisi):\n",
    "    luas = sisi*sisi\n",
    "    return luas\n",
    "\n",
    "def volume(sisi):\n",
    "    volume = luas_persegi(sisi)*sisi\n",
    "    return volume\n",
    "\n",
    "luas_persegi(2)"
   ]
  },
  {
   "cell_type": "code",
   "execution_count": 52,
   "metadata": {},
   "outputs": [
    {
     "data": {
      "text/plain": [
       "27"
      ]
     },
     "execution_count": 52,
     "metadata": {},
     "output_type": "execute_result"
    }
   ],
   "source": [
    "def luas_persegi(sisi):\n",
    "    luas = sisi*sisi\n",
    "    return luas\n",
    "\n",
    "def volume(sisi):\n",
    "    volume = luas_persegi(sisi)*sisi\n",
    "    return volume\n",
    "\n",
    "luas_persegi(2)    #tidak terbaca karena luas persegi dicode ini ditulis sebagai bagian dari volume\n",
    "volume(3)"
   ]
  },
  {
   "cell_type": "code",
   "execution_count": 54,
   "metadata": {},
   "outputs": [
    {
     "data": {
      "text/plain": [
       "4"
      ]
     },
     "execution_count": 54,
     "metadata": {},
     "output_type": "execute_result"
    }
   ],
   "source": [
    "def luas_persegi(sisi):\n",
    "    luas = sisi*sisi\n",
    "    return luas\n",
    "\n",
    "def volume(sisi):\n",
    "    volume = sisi*sisi*sisi\n",
    "    return volume\n",
    "\n",
    "luas_persegi(2)"
   ]
  },
  {
   "cell_type": "code",
   "execution_count": null,
   "metadata": {},
   "outputs": [],
   "source": []
  }
 ],
 "metadata": {
  "kernelspec": {
   "display_name": "Python 3",
   "language": "python",
   "name": "python3"
  },
  "language_info": {
   "codemirror_mode": {
    "name": "ipython",
    "version": 3
   },
   "file_extension": ".py",
   "mimetype": "text/x-python",
   "name": "python",
   "nbconvert_exporter": "python",
   "pygments_lexer": "ipython3",
   "version": "3.9.1"
  }
 },
 "nbformat": 4,
 "nbformat_minor": 4
}
